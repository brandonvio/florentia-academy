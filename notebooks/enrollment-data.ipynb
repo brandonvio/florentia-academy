{
 "cells": [
  {
   "cell_type": "code",
   "execution_count": 3,
   "id": "03cc75f0-f5fe-4b49-9b1a-4529e450bd07",
   "metadata": {},
   "outputs": [],
   "source": [
    "from dotenv import load_dotenv\n",
    "from pynamodb.models import Model\n",
    "from pynamodb.attributes import UnicodeAttribute, NumberAttribute"
   ]
  },
  {
   "cell_type": "code",
   "execution_count": 4,
   "id": "1b86c81d-ba46-4334-b935-c4fad529b936",
   "metadata": {},
   "outputs": [
    {
     "data": {
      "text/plain": [
       "True"
      ]
     },
     "execution_count": 4,
     "metadata": {},
     "output_type": "execute_result"
    }
   ],
   "source": [
    "load_dotenv(verbose=True)"
   ]
  },
  {
   "cell_type": "code",
   "execution_count": 6,
   "id": "1b738842-f666-4214-91bf-6ed2561539d3",
   "metadata": {},
   "outputs": [],
   "source": [
    "class SingleTableModel(Model):\n",
    "    class Meta:\n",
    "        table_name = \"florentia_academy_db\"\n",
    "        region = 'us-west-2' \n",
    "    PK = UnicodeAttribute(hash_key=True)\n",
    "    SK = UnicodeAttribute(range_key=True)\n",
    "    data = UnicodeAttribute(null=True)\n",
    "    @classmethod\n",
    "    def user_pk(cls, user_id):\n",
    "        return f\"USER#{user_id}\"\n",
    "\n",
    "    @classmethod\n",
    "    def user_sk(cls):\n",
    "        return f\"METADATA\"\n",
    "\n",
    "    @classmethod\n",
    "    def order_pk(cls, user_id):\n",
    "        return f\"USER#{user_id}\"\n",
    "\n",
    "    @classmethod\n",
    "    def order_sk(cls, order_id):\n",
    "        return f\"ORDER#{order_id}\"\n"
   ]
  },
  {
   "cell_type": "code",
   "execution_count": null,
   "id": "22d08723-feb5-4a9e-aa0e-2bcc5ae8313d",
   "metadata": {},
   "outputs": [],
   "source": []
  }
 ],
 "metadata": {
  "kernelspec": {
   "display_name": "Python 3 (ipykernel)",
   "language": "python",
   "name": "python3"
  },
  "language_info": {
   "codemirror_mode": {
    "name": "ipython",
    "version": 3
   },
   "file_extension": ".py",
   "mimetype": "text/x-python",
   "name": "python",
   "nbconvert_exporter": "python",
   "pygments_lexer": "ipython3",
   "version": "3.11.4"
  }
 },
 "nbformat": 4,
 "nbformat_minor": 5
}
