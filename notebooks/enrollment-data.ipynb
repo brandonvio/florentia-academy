{
 "cells": [
  {
   "cell_type": "code",
   "execution_count": 1,
   "id": "03cc75f0-f5fe-4b49-9b1a-4529e450bd07",
   "metadata": {},
   "outputs": [],
   "source": [
    "import csv\n",
    "import json\n",
    "from dotenv import load_dotenv\n",
    "from pynamodb.models import Model\n",
    "from pynamodb.attributes import UnicodeAttribute, NumberAttribute"
   ]
  },
  {
   "cell_type": "code",
   "execution_count": 2,
   "id": "1b86c81d-ba46-4334-b935-c4fad529b936",
   "metadata": {},
   "outputs": [
    {
     "data": {
      "text/plain": [
       "True"
      ]
     },
     "execution_count": 2,
     "metadata": {},
     "output_type": "execute_result"
    }
   ],
   "source": [
    "load_dotenv(verbose=True)"
   ]
  },
  {
   "cell_type": "code",
   "execution_count": 3,
   "id": "1b738842-f666-4214-91bf-6ed2561539d3",
   "metadata": {},
   "outputs": [],
   "source": [
    "class SingleTableModel(Model):\n",
    "    class Meta:\n",
    "        table_name = \"florentia_academy_db\"\n",
    "        region = 'us-west-2' \n",
    "    pk = UnicodeAttribute(hash_key=True)\n",
    "    sk = UnicodeAttribute(range_key=True)\n",
    "    data = UnicodeAttribute(null=True)\n",
    "    \n",
    "    @classmethod\n",
    "    def teacher_pk(cls, id):\n",
    "        return f\"TEACHER#{id}\"\n",
    "\n",
    "    @classmethod\n",
    "    def student_pk(cls, id):\n",
    "        return f\"STUDENT#{id}\"\n",
    "\n",
    "    @classmethod\n",
    "    def course_pk(cls, id):\n",
    "        return f\"COURSE#{id}\"\n",
    "\n",
    "    @classmethod\n",
    "    def semester_pk(cls, id):\n",
    "        return f\"SEMESTER#{id}\"\n",
    "        \n",
    "    @classmethod\n",
    "    def course_sk(cls):\n",
    "        return f\"METADATA\"\n",
    "        \n",
    "    @classmethod\n",
    "    def teacher_sk(cls):\n",
    "        return f\"METADATA\"\n",
    "\n",
    "    @classmethod\n",
    "    def course_sk(cls):\n",
    "        return f\"METADATA\"\n",
    "\n",
    "    @classmethod\n",
    "    def student_sk(cls):\n",
    "        return f\"METADATA\"\n",
    "\n",
    "    @classmethod\n",
    "    def semester_sk(cls):\n",
    "        return f\"METADATA\"\n"
   ]
  },
  {
   "cell_type": "code",
   "execution_count": 4,
   "id": "22d08723-feb5-4a9e-aa0e-2bcc5ae8313d",
   "metadata": {},
   "outputs": [],
   "source": [
    "def get_reader(csv_filename):\n",
    "    with open(csv_filename, 'r') as csvfile:\n",
    "        reader = csv.reader(csvfile)\n",
    "        return list(reader)\n",
    "    \n",
    "def empty_table():\n",
    "    for item in SingleTableModel.scan():\n",
    "        item.delete()\n",
    "\n",
    "def seed_courses():\n",
    "    reader = get_reader(\"courses.csv\")\n",
    "    for row in reader:\n",
    "        course_id, course_name = row\n",
    "        course = SingleTableModel(pk=SingleTableModel.course_pk(course_id), sk=SingleTableModel.course_sk())\n",
    "        data = {\n",
    "            \"course_name\": course_name\n",
    "        }\n",
    "        course.data = json.dumps(data)\n",
    "        course.save()\n",
    "\n",
    "def seed_students():\n",
    "    reader = get_reader(\"students.csv\")\n",
    "    for row in reader:\n",
    "        id, last, first, dob = row\n",
    "        student = SingleTableModel(pk=SingleTableModel.student_pk(id), sk=SingleTableModel.student_sk())\n",
    "        data = {\n",
    "            \"first\": first,\n",
    "            \"last\": last,\n",
    "            \"dob\": dob\n",
    "        }\n",
    "        student.data = json.dumps(data)\n",
    "        student.save()\n",
    "\n",
    "def seed_teachers():\n",
    "    reader = get_reader(\"teachers.csv\")\n",
    "    for row in reader:\n",
    "        id, last, first, dob, degree = row\n",
    "        teacher = SingleTableModel(pk=SingleTableModel.teacher_pk(id), sk=SingleTableModel.teacher_sk())\n",
    "        data = {\n",
    "            \"first\": first,\n",
    "            \"last\": last,\n",
    "            \"dob\": dob,\n",
    "            \"degree\": degree\n",
    "        }\n",
    "        teacher.data = json.dumps(data)\n",
    "        teacher.save()\n",
    "        \n",
    "def seed_semester():\n",
    "    semester1 = SingleTableModel(pk=SingleTableModel.semester_pk(\"2023S1\"), sk=SingleTableModel.semester_sk())\n",
    "    data = {}\n",
    "    data[\"description\"] = \"2023 Semester 1\"\n",
    "    semester1.data = json.dumps(data)\n",
    "    semester1.save()\n",
    "\n",
    "def seed():\n",
    "    empty_table()\n",
    "    seed_semester()\n",
    "    seed_courses()\n",
    "    seed_students()\n",
    "    seed_teachers()"
   ]
  },
  {
   "cell_type": "code",
   "execution_count": 5,
   "id": "620fba9e-4f83-4dcb-b9d6-bf2121a2990c",
   "metadata": {},
   "outputs": [],
   "source": [
    "seed()"
   ]
  },
  {
   "cell_type": "code",
   "execution_count": null,
   "id": "de187fc7-06d7-4253-b547-cc54676a41be",
   "metadata": {},
   "outputs": [],
   "source": []
  }
 ],
 "metadata": {
  "kernelspec": {
   "display_name": "Python 3 (ipykernel)",
   "language": "python",
   "name": "python3"
  },
  "language_info": {
   "codemirror_mode": {
    "name": "ipython",
    "version": 3
   },
   "file_extension": ".py",
   "mimetype": "text/x-python",
   "name": "python",
   "nbconvert_exporter": "python",
   "pygments_lexer": "ipython3",
   "version": "3.11.4"
  }
 },
 "nbformat": 4,
 "nbformat_minor": 5
}
